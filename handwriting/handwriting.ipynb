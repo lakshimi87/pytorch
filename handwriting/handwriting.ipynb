{
 "cells": [
  {
   "cell_type": "code",
   "execution_count": 1,
   "metadata": {},
   "outputs": [],
   "source": [
    "import torch\n",
    "import torch.nn as nn\n",
    "import torch.nn.functional as F\n",
    "import torch.optim as optim\n",
    "from torchvision import datasets, transforms\n",
    "from matplotlib import pyplot as plt\n"
   ]
  },
  {
   "cell_type": "code",
   "execution_count": 2,
   "metadata": {},
   "outputs": [
    {
     "name": "stdout",
     "output_type": "stream",
     "text": [
      "Current cuda device is cpu\n"
     ]
    }
   ],
   "source": [
    "isCuda = torch.cuda.is_available()\n",
    "device = torch.device('cuda' if isCuda else 'cpu')\n",
    "\n",
    "print(f'Current cuda device is {device}')\n"
   ]
  },
  {
   "cell_type": "code",
   "execution_count": 3,
   "metadata": {},
   "outputs": [
    {
     "name": "stdout",
     "output_type": "stream",
     "text": [
      "number of training data: 60000\n",
      "number of test data: 10000\n"
     ]
    }
   ],
   "source": [
    "BatchSize = 50\n",
    "EpochNum = 15\n",
    "LearningRate = 0.0001\n",
    "\n",
    "trainData = datasets.MNIST(root = './data', train = True, download = True,\n",
    "\ttransform = transforms.ToTensor())\n",
    "testData = datasets.MNIST(root = './data', train = False, download = True,\n",
    "\ttransform = transforms.ToTensor())\n",
    "\n",
    "print(f'number of training data: {len(trainData)}')\n",
    "print(f'number of test data: {len(testData)}')\n"
   ]
  },
  {
   "cell_type": "code",
   "execution_count": 4,
   "metadata": {},
   "outputs": [
    {
     "data": {
      "image/png": "[encoded data removed]",
      "text/plain": [
       "<Figure size 640x480 with 1 Axes>"
      ]
     },
     "metadata": {},
     "output_type": "display_data"
    }
   ],
   "source": [
    "image, label = trainData[0]\n",
    "plt.imshow(image.squeeze().numpy(), cmap = 'gray')\n",
    "plt.title(f'label : {label}')\n",
    "plt.show()\n"
   ]
  },
  {
   "cell_type": "code",
   "execution_count": 5,
   "metadata": {},
   "outputs": [],
   "source": [
    "trainLoader = torch.utils.data.DataLoader(dataset = trainData,\n",
    "\tbatch_size = BatchSize, shuffle = True)\n",
    "testLoader = torch.utils.data.DataLoader(dataset = testData,\n",
    "\tbatch_size = BatchSize, shuffle = True)\n"
   ]
  },
  {
   "cell_type": "code",
   "execution_count": 6,
   "metadata": {},
   "outputs": [],
   "source": [
    "class CNN(nn.Module):\n",
    "\tdef __init__(self):\n",
    "\t\tsuper(CNN, self).__init__()\n",
    "\t\tself.conv1 = nn.Conv2d(1, 8, 3, 1)\n",
    "\t\tself.conv2 = nn.Conv2d(8, 16, 3, 1)\n",
    "\t\tself.dropout1 = nn.Dropout(0.25)\n",
    "\t\tself.dropout2 = nn.Dropout(0.5)\n",
    "\t\tself.fc1 = nn.Linear(2304, 256)\n",
    "\t\tself.fc2 = nn.Linear(256, 10)\n",
    "\tdef forward(self, x):\n",
    "\t\tx = self.conv1(x)\n",
    "\t\tx = F.relu(x)\n",
    "\t\tx = self.conv2(x)\n",
    "\t\tx = F.relu(x)\n",
    "\t\tx = F.max_pool2d(x, 2)\n",
    "\t\tx = self.dropout1(x)\n",
    "\t\tx = torch.flatten(x, 1)\n",
    "\t\tx = self.fc1(x)\n",
    "\t\tx = F.relu(x)\n",
    "\t\tx = self.dropout2(x)\n",
    "\t\tx = self.fc2(x)\n",
    "\t\toutput = F.log_softmax(x, dim = 1)\n",
    "\t\treturn output\n"
   ]
  },
  {
   "cell_type": "code",
   "execution_count": 7,
   "metadata": {},
   "outputs": [
    {
     "name": "stdout",
     "output_type": "stream",
     "text": [
      "CNN(\n",
      "  (conv1): Conv2d(1, 8, kernel_size=(3, 3), stride=(1, 1))\n",
      "  (conv2): Conv2d(8, 16, kernel_size=(3, 3), stride=(1, 1))\n",
      "  (dropout1): Dropout(p=0.25, inplace=False)\n",
      "  (dropout2): Dropout(p=0.5, inplace=False)\n",
      "  (fc1): Linear(in_features=2304, out_features=256, bias=True)\n",
      "  (fc2): Linear(in_features=256, out_features=10, bias=True)\n",
      ")\n"
     ]
    }
   ],
   "source": [
    "model = CNN().to(device)\n",
    "optimizer = optim.Adam(model.parameters(), lr = LearningRate)\n",
    "criterion = nn.CrossEntropyLoss()\n",
    "print(model)\n"
   ]
  },
  {
   "cell_type": "code",
   "execution_count": 8,
   "metadata": {},
   "outputs": [
    {
     "name": "stdout",
     "output_type": "stream",
     "text": [
      "  1000 0.578\n",
      "  2000 0.285\n",
      "  3000 0.233\n",
      "  4000 0.122\n",
      "  5000 0.211\n",
      "  6000 0.089\n",
      "  7000 0.066\n",
      "  8000 0.085\n",
      "  9000 0.142\n",
      " 10000 0.059\n",
      " 11000 0.013\n",
      " 12000 0.048\n",
      " 13000 0.062\n",
      " 14000 0.050\n",
      " 15000 0.010\n",
      " 16000 0.007\n",
      " 17000 0.047\n",
      " 18000 0.010\n"
     ]
    }
   ],
   "source": [
    "model.train()\n",
    "step = 0\n",
    "for epoch in range(EpochNum):\n",
    "\tfor data, target in trainLoader:\n",
    "\t\tdata = data.to(device)\n",
    "\t\ttarget = target.to(device)\n",
    "\t\toptimizer.zero_grad()\n",
    "\t\toutput = model(data)\n",
    "\t\tloss = criterion(output, target)\n",
    "\t\tloss.backward()\n",
    "\t\toptimizer.step()\n",
    "\t\tstep += 1\n",
    "\t\tif step%1000 == 0: print(f'{step:6d} {loss.item():.3f}')\n"
   ]
  },
  {
   "cell_type": "code",
   "execution_count": 9,
   "metadata": {},
   "outputs": [
    {
     "name": "stdout",
     "output_type": "stream",
     "text": [
      "Accuracy: 98.84%\n"
     ]
    }
   ],
   "source": [
    "model.eval()\n",
    "correct = 0\n",
    "for data, target in testLoader:\n",
    "\tdata = data.to(device)\n",
    "\ttarget = target.to(device)\n",
    "\toutput = model(data)\n",
    "\tprediction = output.data.max(1)[1]\n",
    "\tcorrect += prediction.eq(target.data).sum()\n",
    "\n",
    "print(f'Accuracy: {100*correct/len(testLoader.dataset):.2f}%')\n"
   ]
  }
 ],
 "metadata": {
  "kernelspec": {
   "display_name": "Python 3",
   "language": "python",
   "name": "python3"
  },
  "language_info": {
   "codemirror_mode": {
    "name": "ipython",
    "version": 3
   },
   "file_extension": ".py",
   "mimetype": "text/x-python",
   "name": "python",
   "nbconvert_exporter": "python",
   "pygments_lexer": "ipython3",
   "version": "3.9.13"
  },
  "orig_nbformat": 4
 },
 "nbformat": 4,
 "nbformat_minor": 2
}
